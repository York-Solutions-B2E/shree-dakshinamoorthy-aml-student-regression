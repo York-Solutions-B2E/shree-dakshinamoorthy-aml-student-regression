{
 "cells": [
  {
   "cell_type": "code",
   "execution_count": 9,
   "metadata": {},
   "outputs": [
    {
     "name": "stdout",
     "output_type": "stream",
     "text": [
      "Requirement already satisfied: SQLAlchemy in /Library/Frameworks/Python.framework/Versions/3.12/lib/python3.12/site-packages (2.0.24)\n",
      "Requirement already satisfied: typing-extensions>=4.2.0 in /Library/Frameworks/Python.framework/Versions/3.12/lib/python3.12/site-packages (from SQLAlchemy) (4.9.0)\n",
      "Requirement already satisfied: greenlet!=0.4.17 in /Library/Frameworks/Python.framework/Versions/3.12/lib/python3.12/site-packages (from SQLAlchemy) (3.0.3)\n",
      "Note: you may need to restart the kernel to use updated packages.\n"
     ]
    }
   ],
   "source": [
    "pip install SQLAlchemy"
   ]
  },
  {
   "cell_type": "code",
   "execution_count": null,
   "metadata": {},
   "outputs": [],
   "source": [
    "#pip install import_ipynb"
   ]
  },
  {
   "cell_type": "code",
   "execution_count": null,
   "metadata": {},
   "outputs": [],
   "source": [
    "import psycopg2\n",
    "from sqlalchemy import create_engine, text\n",
    "import pandas as pd\n",
    "import numpy as np\n",
    "import csv\n",
    "#%run /Users/yorkmacbook033/Desktop/MidTermAssessment/newstudent.ipynb"
   ]
  },
  {
   "cell_type": "markdown",
   "metadata": {},
   "source": [
    "#### Connecting to Postgres"
   ]
  },
  {
   "cell_type": "code",
   "execution_count": 15,
   "metadata": {},
   "outputs": [],
   "source": [
    "\n",
    "\n",
    "# Define the database connection parameters\n",
    "db_params = {\n",
    "    'host': 'localhost',\n",
    "    'database': 'postgres',\n",
    "    'user': 'postgres',\n",
    "    'password': 'password'\n",
    "}\n",
    "# Create a connection to the PostgreSQL server\n",
    "connection = psycopg2.connect(  \n",
    "    host=db_params['host'],\n",
    "    database=db_params['database'],\n",
    "    user=db_params['user'],\n",
    "    password=db_params['password']\n",
    ")\n",
    "\n",
    "# Create a cursorsor object\n",
    "cursor = connection.cursor()\n",
    "\n",
    "connection.set_session(autocommit=True)\n",
    "\n",
    "database_name = 'student_data'\n",
    "#cursor.execute(f\"CREATE DATABASE {database_name}\") #uncomment to create a database\n",
    "\n",
    "# close the connection to the default database\n",
    "#connection.commit() # Not required to commit\n",
    "cursor.close()\n",
    "connection.close()\n"
   ]
  },
  {
   "cell_type": "markdown",
   "metadata": {},
   "source": [
    "#### Connecting to add student data"
   ]
  },
  {
   "cell_type": "code",
   "execution_count": 17,
   "metadata": {},
   "outputs": [
    {
     "data": {
      "text/plain": [
       "316"
      ]
     },
     "execution_count": 17,
     "metadata": {},
     "output_type": "execute_result"
    }
   ],
   "source": [
    "# Connect to the 'studentdata' database\n",
    "database_name = 'student_data'\n",
    "db_params['database'] = database_name\n",
    "engine = create_engine(f'postgresql://{db_params[\"user\"]}:{db_params[\"password\"]}@{db_params[\"host\"]}/{db_params[\"database\"]}')\n",
    "\n",
    "csv_file = 'data.csv'\n",
    "\n",
    "table_name='student_grades'\n",
    "\n",
    "df = pd.read_csv(csv_file, sep=';')\n",
    "df.to_sql(table_name, engine, if_exists='replace', index=False)\n"
   ]
  },
  {
   "cell_type": "markdown",
   "metadata": {},
   "source": [
    "#### Function to add a new student"
   ]
  },
  {
   "cell_type": "code",
   "execution_count": 36,
   "metadata": {},
   "outputs": [],
   "source": [
    "#Function to add a new student\n",
    "def add_new_student(student_data):\n",
    "    new_student_df = pd.DataFrame([student_data])\n",
    "    new_student_df.to_sql('student_data', engine, index=False, if_exists='append')"
   ]
  },
  {
   "cell_type": "code",
   "execution_count": 58,
   "metadata": {},
   "outputs": [
    {
     "name": "stdout",
     "output_type": "stream",
     "text": [
      "[{'school': 'GP1', 'sex': 'F', 'age': '16', 'address': 'U', 'famsize': 'LE3', 'Pstatus': 'T', 'Medu': '4', 'Fedu': '3', 'Mjob': 'teacher', 'Fjob': 'services', 'reason': 'course', 'guardian': 'mother', 'traveltime': '3', 'studytime': '2', 'failures': '0', 'schoolsup': 'no', 'famsup': 'yes', 'paid': 'no', 'activities': 'yes', 'nursery': 'yes', 'higher': 'yes', 'internet': 'yes', 'romantic': 'no', 'famrel': '5', 'freetime': '4', 'goout': '3', 'Dalc': '1', 'Walc': '2', 'health': '1', 'absences': '2', 'G1': '16', 'G2': '15', 'G3': '15'}, {'school': 'GP2', 'sex': 'M', 'age': '18', 'address': 'U', 'famsize': 'LE3', 'Pstatus': 'T', 'Medu': '1', 'Fedu': '1', 'Mjob': 'other', 'Fjob': 'other', 'reason': 'course', 'guardian': 'mother', 'traveltime': '1', 'studytime': '1', 'failures': '3', 'schoolsup': 'no', 'famsup': 'no', 'paid': 'no', 'activities': 'no', 'nursery': 'yes', 'higher': 'no', 'internet': 'yes', 'romantic': 'yes', 'famrel': '2', 'freetime': '3', 'goout': '5', 'Dalc': '2', 'Walc': '5', 'health': '4', 'absences': '0', 'G1': '6', 'G2': '5', 'G3': '0'}, {'school': 'GP3', 'sex': 'M', 'age': '17', 'address': 'R', 'famsize': 'LE3', 'Pstatus': 'A', 'Medu': '4', 'Fedu': '4', 'Mjob': 'teacher', 'Fjob': 'other', 'reason': 'course', 'guardian': 'mother', 'traveltime': '2', 'studytime': '2', 'failures': '0', 'schoolsup': 'no', 'famsup': 'yes', 'paid': 'yes', 'activities': 'no', 'nursery': 'yes', 'higher': 'yes', 'internet': 'yes', 'romantic': 'no', 'famrel': '3', 'freetime': '3', 'goout': '3', 'Dalc': '2', 'Walc': '3', 'health': '4', 'absences': '2', 'G1': '10', 'G2': '11', 'G3': '12'}, {'school': 'GP4', 'sex': 'F', 'age': '15', 'address': 'U', 'famsize': 'LE3', 'Pstatus': 'T', 'Medu': '3', 'Fedu': '2', 'Mjob': 'services', 'Fjob': 'other', 'reason': 'reputation', 'guardian': 'mother', 'traveltime': '1', 'studytime': '2', 'failures': '0', 'schoolsup': 'no', 'famsup': 'yes', 'paid': 'yes', 'activities': 'no', 'nursery': 'yes', 'higher': 'yes', 'internet': 'yes', 'romantic': 'no', 'famrel': '4', 'freetime': '4', 'goout': '4', 'Dalc': '1', 'Walc': '1', 'health': '5', 'absences': '10', 'G1': '7', 'G2': '6', 'G3': '6'}, {'school': 'GP5', 'sex': 'M', 'age': '16', 'address': 'U', 'famsize': 'GT3', 'Pstatus': 'T', 'Medu': '2', 'Fedu': '3', 'Mjob': 'other', 'Fjob': 'other', 'reason': 'home', 'guardian': 'father', 'traveltime': '2', 'studytime': '1', 'failures': '0', 'schoolsup': 'no', 'famsup': 'no', 'paid': 'no', 'activities': 'no', 'nursery': 'yes', 'higher': 'yes', 'internet': 'yes', 'romantic': 'no', 'famrel': '5', 'freetime': '3', 'goout': '3', 'Dalc': '1', 'Walc': '1', 'health': '3', 'absences': '0', 'G1': '13', 'G2': '14', 'G3': '14'}]\n"
     ]
    }
   ],
   "source": [
    "# Append a csv file for multiple entries using the function\n",
    "with open('appenddata.csv', 'r') as file:\n",
    "    csv_reader = csv.DictReader(file)\n",
    "    data = [row for row in csv_reader]\n",
    "    print(data)\n",
    "    for d in data:\n",
    "        add_new_student(d)\n"
   ]
  },
  {
   "cell_type": "markdown",
   "metadata": {},
   "source": [
    "#### 4 different entry methods. Newstudententry-additional.ipynb is the 5th "
   ]
  },
  {
   "cell_type": "code",
   "execution_count": 1,
   "metadata": {},
   "outputs": [
    {
     "name": "stdout",
     "output_type": "stream",
     "text": [
      "[{'school': 'GP1', 'sex': 'F', 'age': 16, 'address': 'U', 'famsize': 'LE3', 'Pstatus': 'T', 'Medu': 4, 'Fedu': 3, 'Mjob': 'teacher', 'Fjob': 'services', 'reason': 'course', 'guardian': 'mother', 'traveltime': 3, 'studytime': 2, 'failures': 0, 'schoolsup': 'no', 'famsup': 'yes', 'paid': 'no', 'activities': 'yes', 'nursery': 'yes', 'higher': 'yes', 'internet': 'yes', 'romantic': 'no', 'famrel': 5, 'freetime': 4, 'goout': 3, 'Dalc': 1, 'Walc': 2, 'health': 1, 'absences': 2, 'G1': 16, 'G2': 15, 'G3': 15}, {'school': 'GP2', 'sex': 'M', 'age': 18, 'address': 'U', 'famsize': 'LE3', 'Pstatus': 'T', 'Medu': 1, 'Fedu': 1, 'Mjob': 'other', 'Fjob': 'other', 'reason': 'course', 'guardian': 'mother', 'traveltime': 1, 'studytime': 1, 'failures': 3, 'schoolsup': 'no', 'famsup': 'no', 'paid': 'no', 'activities': 'no', 'nursery': 'yes', 'higher': 'no', 'internet': 'yes', 'romantic': 'yes', 'famrel': 2, 'freetime': 3, 'goout': 5, 'Dalc': 2, 'Walc': 5, 'health': 4, 'absences': 0, 'G1': 6, 'G2': 5, 'G3': 0}, {'school': 'GP3', 'sex': 'M', 'age': 17, 'address': 'R', 'famsize': 'LE3', 'Pstatus': 'A', 'Medu': 4, 'Fedu': 4, 'Mjob': 'teacher', 'Fjob': 'other', 'reason': 'course', 'guardian': 'mother', 'traveltime': 2, 'studytime': 2, 'failures': 0, 'schoolsup': 'no', 'famsup': 'yes', 'paid': 'yes', 'activities': 'no', 'nursery': 'yes', 'higher': 'yes', 'internet': 'yes', 'romantic': 'no', 'famrel': 3, 'freetime': 3, 'goout': 3, 'Dalc': 2, 'Walc': 3, 'health': 4, 'absences': 2, 'G1': 10, 'G2': 11, 'G3': 12}, {'school': 'GP4', 'sex': 'F', 'age': 15, 'address': 'U', 'famsize': 'LE3', 'Pstatus': 'T', 'Medu': 3, 'Fedu': 2, 'Mjob': 'services', 'Fjob': 'other', 'reason': 'reputation', 'guardian': 'mother', 'traveltime': 1, 'studytime': 2, 'failures': 0, 'schoolsup': 'no', 'famsup': 'yes', 'paid': 'yes', 'activities': 'no', 'nursery': 'yes', 'higher': 'yes', 'internet': 'yes', 'romantic': 'no', 'famrel': 4, 'freetime': 4, 'goout': 4, 'Dalc': 1, 'Walc': 1, 'health': 5, 'absences': 10, 'G1': 7, 'G2': 6, 'G3': 6}, {'school': 'GP5', 'sex': 'M', 'age': 16, 'address': 'U', 'famsize': 'GT3', 'Pstatus': 'T', 'Medu': 2, 'Fedu': 3, 'Mjob': 'other', 'Fjob': 'other', 'reason': 'home', 'guardian': 'father', 'traveltime': 2, 'studytime': 1, 'failures': 0, 'schoolsup': 'no', 'famsup': 'no', 'paid': 'no', 'activities': 'no', 'nursery': 'yes', 'higher': 'yes', 'internet': 'yes', 'romantic': 'no', 'famrel': 5, 'freetime': 3, 'goout': 3, 'Dalc': 1, 'Walc': 1, 'health': 3, 'absences': 0, 'G1': 13, 'G2': 14, 'G3': 14}]\n"
     ]
    }
   ],
   "source": [
    "# Append a csv file for multiple entries using pandas and the function\n",
    "import pandas as pd\n",
    "# read csv\n",
    "data = pd.read_csv('appenddata.csv')\n",
    "# Convert the DataFrame to a Dictionary\n",
    "data_dict = data.to_dict(orient='records')\n",
    "print(data_dict)\n",
    "for data in data_dict:\n",
    "    add_new_student(data)"
   ]
  },
  {
   "cell_type": "code",
   "execution_count": null,
   "metadata": {},
   "outputs": [],
   "source": [
    "# Append a csv file without using a function\n",
    "df = pd.read_csv('appenddata', sep=';')\n",
    "df.to_sql('student_data', engine, if_exists='append', index=False)"
   ]
  },
  {
   "cell_type": "code",
   "execution_count": 59,
   "metadata": {},
   "outputs": [],
   "source": [
    "# Append a single new entry\n",
    "new_student_data = {\n",
    "    'school': 'GPNew',\n",
    "    'sex': 'F',\n",
    "    'age': 16,\n",
    "    'address': 'U',\n",
    "    'famsize': 'LE3',\n",
    "    'Pstatus': 'T',\n",
    "    'Medu': 3,\n",
    "    'Fedu': 2,\n",
    "    'Mjob': 'services',\n",
    "    'Fjob': 'other',\n",
    "    'reason': 'course',\n",
    "    'guardian': 'mother',\n",
    "    'traveltime': 2,\n",
    "    'studytime': 3,\n",
    "    'failures': 0,\n",
    "    'schoolsup': 'no',\n",
    "    'famsup': 'yes',\n",
    "    'paid': 'no',\n",
    "    'activities': 'yes',\n",
    "    'nursery': 'yes',\n",
    "    'higher': 'yes',\n",
    "    'internet': 'yes',\n",
    "    'romantic': 'no',\n",
    "    'famrel': 5,\n",
    "    'freetime': 4,\n",
    "    'goout': 3,\n",
    "    'Dalc': 1,\n",
    "    'Walc': 2,\n",
    "    'health': 1,\n",
    "    'absences': 2,\n",
    "    'G1': 15,\n",
    "    'G2': 14,\n",
    "    'G3': 16\n",
    "}\n",
    "\n",
    "#add_new_student(new_student_data)\n"
   ]
  }
 ],
 "metadata": {
  "kernelspec": {
   "display_name": "Python 3",
   "language": "python",
   "name": "python3"
  },
  "language_info": {
   "codemirror_mode": {
    "name": "ipython",
    "version": 3
   },
   "file_extension": ".py",
   "mimetype": "text/x-python",
   "name": "python",
   "nbconvert_exporter": "python",
   "pygments_lexer": "ipython3",
   "version": "3.12.0"
  }
 },
 "nbformat": 4,
 "nbformat_minor": 2
}
